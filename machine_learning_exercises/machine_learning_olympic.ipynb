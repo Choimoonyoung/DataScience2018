{
 "cells": [
  {
   "cell_type": "markdown",
   "metadata": {
    "colab_type": "text",
    "id": "7eWQR93kPGbM"
   },
   "source": [
    "## ** 머신러닝 올림픽 **\n",
    "### 6/22 (금) 새천년관"
   ]
  },
  {
   "cell_type": "markdown",
   "metadata": {
    "colab_type": "text",
    "id": "NERKjND3PGbR"
   },
   "source": [
    "---\n",
    "\n",
    "#### **문제**: 두 종류 (클래스라벨: 0과 1)의 데이터가 2차원의 속성변수공간에 분포되어있다 (데이터는 현장에서 공개). 이때 임의의 테스트 데이터가, 각각의 종에 속할 확률을 예측하는 이종 분류 신경망을 건설하고 훈련시켜보자.\n",
    " \n",
    "    분석 1) 여러가지 형태의 신경망에 대해, 각 epoch(x축)마다 훈련 샘플과 테스트 샘플의 성능(y축:분류정확도)을 평가하여 학습곡선을 그려보자. \n",
    "    \n",
    "    분석 2) 이러한 평가를 통하여 테스트 샘플의 분류 정확도가 극대화된, 최적의 신경망 모형을 얻어보자.\n",
    "    \n",
    "    분석 3) (훈련시킨 최적의 신경망 모형에 대해) 이 신경망 모형을 구성하는 각 층의 연결가중치(W)들의 분포가, 훈련시작 전과 비교하여 훈련종료 후 어떻게 변화했는지 1d histogram으로 시각화해보자.   \n",
    "\n",
    "    분석 4) 최적화된 모형이 주는 확률 예측치 출력을 2d contour plot으로 시각화해보자 (등고선 높이=0 혹은 1클래스에 속할 확률).\n",
    "    \n",
    "    분석 5) 각 클래스의 데이터에 대하여, 신경망 출력값들의 분포를 1d histogram으로 시각화해보자 (x축=0 혹은 1 클래스에 속할 확률).\n",
    "   \n",
    "   \n",
    "**평가방법**: 현장에서 주어질 2차원의 2종 데이터에 대해, 위의 분석 1)~5)의 과정을 수행하여, 이 과정과 결과가 담긴 코드를 제출한다.\n",
    "\n",
    "    - 최종 분류 성능 점수 (40%)\n",
    "    - 1)~5)번 수행과정의 충실도 (60%)\n",
    "\n",
    "**준비방법**: 주어진 데이터에 대해, 분류 모형의 학습이 가능한 신경망 코드를 미리 준비하여,   현장에서의 분석 작업에 임한다. 현장에서 실습 자료 및 외부 자료 검색 가능.  머신러닝 실습자료(주로 2주차)를 참고."
   ]
  },
  {
   "cell_type": "code",
   "execution_count": 0,
   "metadata": {
    "colab": {
     "autoexec": {
      "startup": false,
      "wait_interval": 0
     }
    },
    "colab_type": "code",
    "id": "MDjzNyQ0PGbV"
   },
   "outputs": [],
   "source": []
  }
 ],
 "metadata": {
  "colab": {
   "collapsed_sections": [],
   "default_view": {},
   "name": "machine_learning_olympic.ipynb",
   "provenance": [],
   "version": "0.3.2",
   "views": {}
  },
  "kernelspec": {
   "display_name": "Python 3",
   "language": "python",
   "name": "python3"
  },
  "language_info": {
   "codemirror_mode": {
    "name": "ipython",
    "version": 3
   },
   "file_extension": ".py",
   "mimetype": "text/x-python",
   "name": "python",
   "nbconvert_exporter": "python",
   "pygments_lexer": "ipython3",
   "version": "3.5.2"
  }
 },
 "nbformat": 4,
 "nbformat_minor": 1
}
