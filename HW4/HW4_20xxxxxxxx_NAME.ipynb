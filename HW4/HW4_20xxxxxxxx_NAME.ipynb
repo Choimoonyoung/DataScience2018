{
 "cells": [
  {
   "cell_type": "markdown",
   "metadata": {},
   "source": [
    "# Homework4 [Project] \n",
    "#### Data Science in Korea University, Prof. Jaewoo Kang\n",
    "#### COSE471, Spring 2018\n",
    "#### Due : 6/26 (Tues)  11:59 PM [NO LATE HAND IN(Late hand in will get 0), because of school grade policy]"
   ]
  },
  {
   "cell_type": "markdown",
   "metadata": {},
   "source": [
    "### In this assignment, you will design, implement, and evaluate the appropriate models for given data.\n",
    "- __This is project assignment. We can not reply your questions about technical(code) issues.__\n",
    "- __이번 과제는 프로젝트 과제입니다. 소스코드와 같은 기술적인 질문에는 답변 드릴 수 없습니다.__\n",
    "\n",
    "<br>\n",
    "<br>\n",
    "*Perform the steps described below for each dataset(2 Project).*\n",
    ">0. Preprocess; normalization, feature selection, etc.\n",
    ">1. Model selection; characteristics of datasets need to be comprehended.\n",
    ">2. Evaluation; This step should be done properly to prevent overfitting problem.\n",
    ">3. Enhancement; parameter tuning and feature selection, etc."
   ]
  },
  {
   "cell_type": "markdown",
   "metadata": {},
   "source": [
    "### When you make your model for this Project, you should use scikit learn. Don't use other ML package.\n",
    "### Of course you can use any packages for handling your data. (pandas, numpy, matplotlib, random etc.)\n",
    "### Download your data in *https://www.dropbox.com/sh/6s4e0z9fhenfw6z/AADkJO3Z6WN1b8IJhkVp9KgDa?dl=0*"
   ]
  },
  {
   "cell_type": "markdown",
   "metadata": {},
   "source": [
    "## Project 1\n",
    "### h1b data [h1b_train, h1b_dev, h1b_test]\n",
    "\n",
    "- Use h1b __train data__ for train your model.\n",
    "- Tune your model with __dev data__.\n",
    "- Finally check your best performed model score with __test data__.\n",
    "- __*You should clean your train dev test data first!!*__\n",
    "- Score function : Accuracy\n",
    "<br>\n",
    "<br>\n",
    "- __Your goal is to predict CASE_STATUS, using other features.__\n",
    "- You can choose the features you want to use in your project."
   ]
  },
  {
   "cell_type": "markdown",
   "metadata": {},
   "source": [
    "### Attribute Information\n",
    "\n",
    "- __CASE_STATUS__\n",
    "    - The CASE_STATUS field denotes the status of the application after LCA processing. Certified applications are filed with USCIS for H-1B approval.\n",
    "<br>\n",
    "<br>\n",
    "- EMPLOYER_NAME\n",
    "    - Name of the employer submitting labor condition application.\n",
    "<br>\n",
    "<br>\n",
    "- SOC_NAME\n",
    "    - Occupational name associated with the SOC_CODE. SOC_CODE is the occupational code associated with the job being requested for temporary labor condition, as classified by the Standard Occupational Classification (SOC) System.\n",
    "<br>\n",
    "<br>\n",
    "- JOB_TITLE\n",
    "    - Title of the job.\n",
    "<br>\n",
    "<br>\n",
    "- FULL_TIME_POSITION\n",
    "    - Y = Full Time Position; N = Part Time Position.\n",
    "<br>\n",
    "<br>\n",
    "- PREVAILING_WAGE\n",
    "    - Prevailing Wage for the job being requested for temporary labor condition. The wage is listed at annual scale in USD. The prevailing wage for a job position is defined as the average wage paid to similarly employed workers in the requested occupation in the area of intended employment. The prevailing wage is based on the employer’s minimum requirements for the position.\n",
    "<br>\n",
    "<br>\n",
    "- YEAR\n",
    "    - Year in which the H-1B visa petition was filed.\n",
    "<br>\n",
    "<br>"
   ]
  },
  {
   "cell_type": "code",
   "execution_count": null,
   "metadata": {
    "collapsed": true
   },
   "outputs": [],
   "source": []
  },
  {
   "cell_type": "code",
   "execution_count": null,
   "metadata": {
    "collapsed": true
   },
   "outputs": [],
   "source": []
  },
  {
   "cell_type": "code",
   "execution_count": null,
   "metadata": {
    "collapsed": true
   },
   "outputs": [],
   "source": []
  },
  {
   "cell_type": "code",
   "execution_count": null,
   "metadata": {
    "collapsed": true
   },
   "outputs": [],
   "source": []
  },
  {
   "cell_type": "markdown",
   "metadata": {},
   "source": [
    "## Project 2\n",
    "### AAAI Accepted Papers\n",
    "\n",
    "- Cluster papers using AAAI Accepted Papers data [use __'title'__ as primary key].\n",
    "- Visualize your clustering result and explain it.\n",
    "<br>\n",
    "<br>\n",
    "- __Your goal is to show clustering result with AAAI Accepted Papers.__\n",
    "- __You must use 'abstract' feature.__ \n",
    "- You can choose the features you want to use in your project."
   ]
  },
  {
   "cell_type": "markdown",
   "metadata": {},
   "source": [
    "### Attribute Information\n",
    "\n",
    "- __Title__\n",
    "    - Free text; title of the paper \n",
    "<br>\n",
    "<br>\n",
    "- Groups\n",
    "    - Categorical; author-selected, high-level keyword(s) \n",
    "<br>\n",
    "<br>\n",
    "- Keywords\n",
    "    - Free text; author-generated keywords \n",
    "<br>\n",
    "<br>\n",
    "- Topics\n",
    "    - Free text; author-selected, low-level keywords \n",
    "<br>\n",
    "<br>\n",
    "- __Abstracts__\n",
    "    - Free text; paper abstracts"
   ]
  },
  {
   "cell_type": "code",
   "execution_count": null,
   "metadata": {
    "collapsed": true
   },
   "outputs": [],
   "source": []
  },
  {
   "cell_type": "code",
   "execution_count": null,
   "metadata": {
    "collapsed": true
   },
   "outputs": [],
   "source": []
  },
  {
   "cell_type": "code",
   "execution_count": null,
   "metadata": {
    "collapsed": true
   },
   "outputs": [],
   "source": []
  },
  {
   "cell_type": "code",
   "execution_count": null,
   "metadata": {
    "collapsed": true
   },
   "outputs": [],
   "source": []
  },
  {
   "cell_type": "markdown",
   "metadata": {},
   "source": [
    "# FIN\n",
    "## You did a really good job for the short semester. Have a nice vacation!! :) "
   ]
  }
 ],
 "metadata": {
  "kernelspec": {
   "display_name": "Python [Root]",
   "language": "python",
   "name": "Python [Root]"
  },
  "language_info": {
   "codemirror_mode": {
    "name": "ipython",
    "version": 3
   },
   "file_extension": ".py",
   "mimetype": "text/x-python",
   "name": "python",
   "nbconvert_exporter": "python",
   "pygments_lexer": "ipython3",
   "version": "3.5.2"
  }
 },
 "nbformat": 4,
 "nbformat_minor": 0
}
